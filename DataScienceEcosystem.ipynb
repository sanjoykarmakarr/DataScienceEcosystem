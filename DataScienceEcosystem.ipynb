{
 "cells": [
  {
   "cell_type": "markdown",
   "id": "c142b473-b42e-4d09-b24f-5c046614390a",
   "metadata": {},
   "source": [
    "#Data Science Tools and Ecosystem"
   ]
  },
  {
   "cell_type": "markdown",
   "id": "75676667-f266-45e3-80f3-d31dfaa3614f",
   "metadata": {},
   "source": [
    "In this notebook, Data Science Tools and Ecosystem are summarized"
   ]
  },
  {
   "cell_type": "markdown",
   "id": "3ce4eb0a-7dc1-40d5-a002-6fc97482c07c",
   "metadata": {
    "tags": []
   },
   "source": [
    "In this notebook, Data Science Tools and Ecosystem are summarized.\n",
    "\n",
    "**Objectives:**\n",
    "\n",
    "- List popular languages that Data Scientists use.\n",
    "- List commonly used libraries used by Data Scientists.\n",
    "- Comment on Data Science tools."
   ]
  },
  {
   "cell_type": "markdown",
   "id": "4656bce3-1504-4024-919f-26084c8bb721",
   "metadata": {},
   "source": [
    "Some of the popular languages that Data Scientists use are:\n",
    "\n",
    "1.PYTHON\n",
    "\n",
    "2.R\n",
    "\n",
    "3.SQL"
   ]
  },
  {
   "cell_type": "markdown",
   "id": "a840ad6d-b14f-4b23-badd-a13581596551",
   "metadata": {},
   "source": [
    "Some of the commonly used libraries used by Data Scientists include:\n",
    "\n",
    "1.Matplotlib\n",
    "\n",
    "2.NumPy\n",
    "\n",
    "3.PyTorch\n",
    "\n",
    "4.tensorflow\n",
    "\n",
    "5.Pandas"
   ]
  },
  {
   "cell_type": "markdown",
   "id": "b92ebbe8-99b5-4821-837a-7774ffcefb5e",
   "metadata": {},
   "source": [
    "|Data Science Tools|\n",
    "|------------------|\n",
    "|SAS|\n",
    "|Apache Spark|\n",
    "|Tableau|"
   ]
  },
  {
   "cell_type": "markdown",
   "id": "c9da8053-cbbc-4a78-9de6-2490c658ec82",
   "metadata": {},
   "source": [
    "###Below are a few examples of evaluating arithmetic expressions in Python:"
   ]
  },
  {
   "cell_type": "code",
   "execution_count": 2,
   "id": "bf7c6d47-e64a-40af-9fe6-7229c697d030",
   "metadata": {
    "tags": []
   },
   "outputs": [
    {
     "name": "stdout",
     "output_type": "stream",
     "text": [
      "22\n"
     ]
    }
   ],
   "source": [
    "x=10 #int\n",
    "y=12 #int\n",
    "z=x+y\n",
    "print(z)"
   ]
  },
  {
   "cell_type": "code",
   "execution_count": 3,
   "id": "62ed62d0-650c-4767-b4c9-7e76c25f09c8",
   "metadata": {
    "tags": []
   },
   "outputs": [
    {
     "name": "stdout",
     "output_type": "stream",
     "text": [
      "1.9811320754716981\n"
     ]
    }
   ],
   "source": [
    "x=float(10.5) #float\n",
    "y=float(5.3)  #float\n",
    "z=x/y\n",
    "print(z)"
   ]
  },
  {
   "cell_type": "code",
   "execution_count": 5,
   "id": "57373633-61f4-4468-998a-43262cc4fff3",
   "metadata": {
    "tags": []
   },
   "outputs": [
    {
     "name": "stdout",
     "output_type": "stream",
     "text": [
      "2.0\n"
     ]
    }
   ],
   "source": [
    "x=21.1 \n",
    "y=10.5 \n",
    "z=x//y #floor division\n",
    "print(z)"
   ]
  },
  {
   "cell_type": "code",
   "execution_count": 7,
   "id": "ddd4410c-c2a6-4dcd-8483-6521efe4efb4",
   "metadata": {
    "tags": []
   },
   "outputs": [
    {
     "name": "stdin",
     "output_type": "stream",
     "text": [
      "enter the 1st no.: 25.3\n",
      "enter the 2nd no.: 4\n"
     ]
    },
    {
     "name": "stdout",
     "output_type": "stream",
     "text": [
      "exponentiation is: 409715.20810000005\n"
     ]
    }
   ],
   "source": [
    "x=float(input(\"enter the 1st no.:\"))\n",
    "y=int(input(\"enter the 2nd no.:\"))\n",
    "z=x**y\n",
    "print(\"exponentiation is:\",z)"
   ]
  },
  {
   "cell_type": "markdown",
   "id": "bfc0e27c-8e2b-4cc8-9a20-94fed668e48f",
   "metadata": {},
   "source": [
    "This a simple arithmeticexpression to mutiply then add integers."
   ]
  },
  {
   "cell_type": "code",
   "execution_count": 9,
   "id": "92372eb3-bdba-47f0-a2f5-7cffa40e1772",
   "metadata": {
    "tags": []
   },
   "outputs": [
    {
     "data": {
      "text/plain": [
       "17"
      ]
     },
     "execution_count": 9,
     "metadata": {},
     "output_type": "execute_result"
    }
   ],
   "source": [
    "(3*4)+5 #here all are int values.\n"
   ]
  },
  {
   "cell_type": "markdown",
   "id": "43e07a0f-893a-4ed3-81b4-19bda2d02f89",
   "metadata": {},
   "source": [
    "This will convert 200 minutes to hours by diving by 60"
   ]
  },
  {
   "cell_type": "code",
   "execution_count": 10,
   "id": "83e69545-797d-42d4-a723-ffe830a71479",
   "metadata": {
    "tags": []
   },
   "outputs": [
    {
     "name": "stdout",
     "output_type": "stream",
     "text": [
      "3.3333333333333335\n"
     ]
    }
   ],
   "source": [
    "minutes=200 #total minutes\n",
    "hours=minutes/60\n",
    "print(hours)"
   ]
  },
  {
   "cell_type": "markdown",
   "id": "6dfa1f7c-5aa7-4f2b-918a-0e5a440c13c0",
   "metadata": {},
   "source": [
    "##**Author:**\n",
    "\n",
    "Sanjoy Karmakar"
   ]
  }
 ],
 "metadata": {
  "kernelspec": {
   "display_name": "Python",
   "language": "python",
   "name": "conda-env-python-py"
  },
  "language_info": {
   "codemirror_mode": {
    "name": "ipython",
    "version": 3
   },
   "file_extension": ".py",
   "mimetype": "text/x-python",
   "name": "python",
   "nbconvert_exporter": "python",
   "pygments_lexer": "ipython3",
   "version": "3.7.12"
  }
 },
 "nbformat": 4,
 "nbformat_minor": 5
}
